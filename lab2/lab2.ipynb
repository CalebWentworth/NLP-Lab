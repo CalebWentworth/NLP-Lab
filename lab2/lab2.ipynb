{
 "cells": [
  {
   "cell_type": "code",
   "execution_count": null,
   "id": "830cd3d4-0221-4b7d-8328-f7de05792bac",
   "metadata": {},
   "outputs": [],
   "source": [
    "import re\n",
    "\n",
    "def aggrigate(filePath):\n",
    "    \n",
    "    months = ['January', 'February', 'March', 'April', 'May', \n",
    "              'June', 'July', 'August', 'September', 'October',\n",
    "              'November', 'December']\n",
    "    daySfx = ['st','nd','th']\n",
    "\n",
    "    matchList = []\n",
    "    lines = []\n",
    "    sPattern = \"|\".join(daySfx)\n",
    "    mPattern = \"|\".join(months)\n",
    "    \n",
    "    # A compiled regex will both improve preformance and make the sytax a bit cleaner\n",
    "    # This one will match one of these options.\n",
    "    # 1. ...\\d\\d 'month'...\n",
    "    # 2. ...'month' \\d\\d...\n",
    "    # 3. ...'month' \\d\\d\\d...\n",
    "    # 4. ...\\d\\d(th,nd,st) of 'month' \\d\\d\\d\\d...\n",
    "    \n",
    "    # String literals have cause me literally hours of debuging time on this regex...\n",
    "    # since im using joins on a list of months to make the syntax *readable*\n",
    "    # every string has to be a literal (r'')\n",
    "    \n",
    "    searchPattern = re.compile(r\"(\\b\\d{1,2}\\s(\"+mPattern+r\")\\b)|(\\b(\"+mPattern+r\")\\s\\d{1,2}\\b)|(\\b(\"+mPattern+r\")\\s\\d{4}\\b)|(\\b\\d{1,2}\\s\"+sPattern+r\"\\sof\\s(\"+mPattern+r\")\\s\\d{4}\\b)\",re.IGNORECASE)\n",
    "    with open(filePath,\"r\") as file:\n",
    "        for line in file:\n",
    "            result = re.search(searchPattern,line)\n",
    "            \n",
    "            if result:\n",
    "                matchList.append(result)\n",
    "                lines.append(line)\n",
    "                \n",
    "    return (matchList, lines)\n",
    "\n",
    "def normalize(matches):\n",
    "    \n",
    "    \n",
    "    \n",
    "    return ()\n",
    "\n",
    "matchList, lines = aggrigate('test.txt')\n",
    "\n",
    "#normalize(matchList)"
   ]
  },
  {
   "cell_type": "markdown",
   "id": "4814d407-6f38-41a1-bc4e-e1bdf75bee69",
   "metadata": {},
   "source": [
    "(\\b\\d{1,2} ('+mPattern+')\\b)|(\\b('+mPattern+') \\d{1,2}\\b)|(\\b('+mPattern+') \\d{4}\\b)|(\\b\\d{1,2}'+sPattern+' of ('+mPattern+')\\b)|"
   ]
  },
  {
   "cell_type": "code",
   "execution_count": 3,
   "id": "c9dec0c0-6978-4578-b61e-120f584ee0e1",
   "metadata": {},
   "outputs": [],
   "source": [
    "#this was the back up regex which didnt use an external variable for the months.\n",
    "#searchPattern = re.compile(r'(\\b\\d{1,2}\\s(January|February|March|April|May|June|July|August|September|October|November|December)\\b)|(\\b(January|February|March|April|May|June|July|August|September|October|November|December)\\s\\d{1,2}\\b)|(\\b(January|February|March|April|May|June|July|August|September|October|November|December)\\s\\d{4}\\b)|(\\b\\d{1,2}(st|nd|th)\\sof\\s(January|February|March|April|May|June|July|August|September|October|November|December)\\s\\d{4}\\b)',re.IGNORECASE)"
   ]
  }
 ],
 "metadata": {
  "kernelspec": {
   "display_name": "Python 3 (ipykernel)",
   "language": "python",
   "name": "python3"
  },
  "language_info": {
   "codemirror_mode": {
    "name": "ipython",
    "version": 3
   },
   "file_extension": ".py",
   "mimetype": "text/x-python",
   "name": "python",
   "nbconvert_exporter": "python",
   "pygments_lexer": "ipython3",
   "version": "3.10.6"
  }
 },
 "nbformat": 4,
 "nbformat_minor": 5
}
