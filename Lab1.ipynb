{
  "nbformat": 4,
  "nbformat_minor": 0,
  "metadata": {
    "colab": {
      "name": "Untitled",
      "provenance": []
    },
    "kernelspec": {
      "name": "python3",
      "display_name": "Python 3"
    },
    "language_info": {
      "name": "python"
    },
    "accelerator": "GPU",
    "gpuClass": "standard"
  },
  "cells": [
    {
      "cell_type": "markdown",
      "source": [
        "practice 1"
      ],
      "metadata": {
        "id": "kubuV0p00xOd"
      }
    },
    {
      "cell_type": "markdown",
      "source": [
        "#1.1\n",
        "Odd numbers 0-100"
      ],
      "metadata": {
        "id": "-ZiwPqon3la8"
      }
    },
    {
      "cell_type": "code",
      "source": [
        "for num in range(0,100):\n",
        "  if num % 2 == 1:\n",
        "    print(num)\n"
      ],
      "metadata": {
        "id": "u2_KxWMz4QdM"
      },
      "execution_count": null,
      "outputs": []
    },
    {
      "cell_type": "markdown",
      "source": [
        "#1.2\n",
        "summation even numbers 0-100"
      ],
      "metadata": {
        "id": "TSIytF5c5pzu"
      }
    },
    {
      "cell_type": "code",
      "source": [
        "def summation(start, end):\n",
        "  result = 0\n",
        "  for i in range(start, end+1):\n",
        "    if i%2 == 0:\n",
        "      result+=i\n",
        "  return result\n",
        "\n",
        "print(summation(0,100))"
      ],
      "metadata": {
        "colab": {
          "base_uri": "https://localhost:8080/"
        },
        "id": "DYTFFv4Z1duE",
        "outputId": "d8a0139e-500e-4bab-e40f-f12f03f5bfb7"
      },
      "execution_count": 9,
      "outputs": [
        {
          "output_type": "stream",
          "name": "stdout",
          "text": [
            "2550\n"
          ]
        }
      ]
    },
    {
      "cell_type": "markdown",
      "source": [
        "#1.3"
      ],
      "metadata": {
        "id": "S6HjgMg-3n-1"
      }
    },
    {
      "cell_type": "code",
      "execution_count": 21,
      "metadata": {
        "id": "Q_Tqahca-8wh",
        "colab": {
          "base_uri": "https://localhost:8080/"
        },
        "outputId": "72e72166-2a09-4e31-ab79-13b8bbcd1bf9"
      },
      "outputs": [
        {
          "output_type": "stream",
          "name": "stdout",
          "text": [
            "76\n",
            "10\n",
            "[10, 17, 37, 52, 54, 59, 72, 74, 75, 76]\n",
            "[72, 76, 52, 17, 59, 75, 74, 54, 37, 10]\n"
          ]
        }
      ],
      "source": [
        "import random\n",
        "import collections\n",
        "\n",
        "nums = []\n",
        "\n",
        "for i in range(10):\n",
        "  nums.append(random.randint(0,100))\n",
        "\n",
        "#max value\n",
        "print(max(nums))\n",
        "\n",
        "#min values\n",
        "print(min(nums))\n",
        "\n",
        "#sorted list\n",
        "nums = sorted(nums)\n",
        "print(nums)\n",
        "\n",
        "#shuffel list\n",
        "random.shuffle(nums)\n",
        "print(nums)"
      ]
    },
    {
      "cell_type": "markdown",
      "source": [
        "#1.4\n",
        "Define a dict"
      ],
      "metadata": {
        "id": "LBzrCzCm8eBc"
      }
    },
    {
      "cell_type": "code",
      "source": [
        "k_v = {'a': 1, 'd': 2, 'b': 2, 'c': 3}\n",
        "k_v = collections.OrderedDict(k_v)\n",
        "print(k_v)\n",
        "k_v.reverse\n",
        "k_v.update({'e',5})\n",
        "#print(k_v)"
      ],
      "metadata": {
        "id": "eepTy9s58ki9",
        "outputId": "79a18b33-b541-4e3b-97f0-de355ab836a4",
        "colab": {
          "base_uri": "https://localhost:8080/"
        }
      },
      "execution_count": 32,
      "outputs": [
        {
          "output_type": "stream",
          "name": "stdout",
          "text": [
            "OrderedDict([('a', 1), ('d', 2), ('b', 2), ('c', 3)])\n",
            "['d', 'c', 'b', 'a']\n"
          ]
        }
      ]
    }
  ]
}