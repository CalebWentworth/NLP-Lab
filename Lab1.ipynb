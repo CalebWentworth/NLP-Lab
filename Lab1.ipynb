{
  "nbformat": 4,
  "nbformat_minor": 0,
  "metadata": {
    "colab": {
      "name": "Untitled",
      "provenance": []
    },
    "kernelspec": {
      "name": "python3",
      "display_name": "Python 3"
    },
    "language_info": {
      "name": "python"
    },
    "accelerator": "GPU",
    "gpuClass": "standard"
  },
  "cells": [
    {
      "cell_type": "markdown",
      "source": [
        "practice 1"
      ],
      "metadata": {
        "id": "kubuV0p00xOd"
      }
    },
    {
      "cell_type": "markdown",
      "source": [
        "Odd numbers 0-100"
      ],
      "metadata": {
        "id": "-ZiwPqon3la8"
      }
    },
    {
      "cell_type": "code",
      "source": [
        "def odds():\n",
        "  for i in range(0,100):\n"
      ],
      "metadata": {
        "id": "u2_KxWMz4QdM"
      },
      "execution_count": null,
      "outputs": []
    },
    {
      "cell_type": "markdown",
      "source": [],
      "metadata": {
        "id": "aMEBn0Iv4kWl"
      }
    },
    {
      "cell_type": "code",
      "execution_count": null,
      "metadata": {
        "id": "Q_Tqahca-8wh"
      },
      "outputs": [],
      "source": [
        "import random\n",
        "def odds():\n",
        "  nums = []\n",
        "\n",
        "  for i in range(10):\n",
        "    nums.append(random.randint(0,100))\n",
        "\n",
        "  for num in nums:\n",
        "    if num % 2 == 1:\n",
        "      print(num)"
      ]
    },
    {
      "cell_type": "code",
      "source": [
        "#summation even numbers 0-100"
      ],
      "metadata": {
        "id": "7wVEl8AN0to8"
      },
      "execution_count": null,
      "outputs": []
    },
    {
      "cell_type": "code",
      "source": [
        "def summation(start, end):\n",
        "  result = 0\n",
        "  for i in range(start, end+1):\n",
        "    if i%2 == 0:\n",
        "      result+=i\n",
        "  return result\n",
        "\n",
        "print(summation(0,100))"
      ],
      "metadata": {
        "colab": {
          "base_uri": "https://localhost:8080/"
        },
        "id": "DYTFFv4Z1duE",
        "outputId": "38947db5-1460-402a-88a4-7313a068eadb"
      },
      "execution_count": 4,
      "outputs": [
        {
          "output_type": "stream",
          "name": "stdout",
          "text": [
            "2550\n"
          ]
        }
      ]
    },
    {
      "cell_type": "markdown",
      "source": [
        "1.3"
      ],
      "metadata": {
        "id": "S6HjgMg-3n-1"
      }
    },
    {
      "cell_type": "code",
      "source": [
        "list = []\n",
        "\n"
      ],
      "metadata": {
        "id": "MkarCRhX3iqM"
      },
      "execution_count": null,
      "outputs": []
    }
  ]
}