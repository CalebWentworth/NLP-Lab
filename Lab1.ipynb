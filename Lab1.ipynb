{
  "nbformat": 4,
  "nbformat_minor": 0,
  "metadata": {
    "colab": {
      "name": "Untitled",
      "provenance": []
    },
    "kernelspec": {
      "name": "python3",
      "display_name": "Python 3"
    },
    "language_info": {
      "name": "python"
    }
  },
  "cells": [
    {
      "cell_type": "code",
      "execution_count": 13,
      "metadata": {
        "colab": {
          "base_uri": "https://localhost:8080/"
        },
        "id": "Q_Tqahca-8wh",
        "outputId": "ab3eb274-bdf1-4b67-8d97-0dd0cf5f10ea"
      },
      "outputs": [
        {
          "output_type": "stream",
          "name": "stdout",
          "text": [
            "1\n",
            "93\n",
            "63\n",
            "83\n",
            "67\n",
            "57\n",
            "11\n",
            "[1, 93, 63, 20, 83, 28, 84, 67, 57, 11]\n"
          ]
        }
      ],
      "source": [
        "import random\n",
        "def odds():\n",
        "  nums = []\n",
        "\n",
        "  for i in range(10):\n",
        "    nums.append(random.randint(0,100))\n",
        "\n",
        "  for num in nums:\n",
        "    if num % 2 == 1:\n",
        "      print(num)"
      ]
    }
  ]
}