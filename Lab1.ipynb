{
  "nbformat": 4,
  "nbformat_minor": 0,
  "metadata": {
    "colab": {
      "name": "Untitled",
      "provenance": []
    },
    "kernelspec": {
      "name": "python3",
      "display_name": "Python 3"
    },
    "language_info": {
      "name": "python"
    },
    "accelerator": "GPU",
    "gpuClass": "standard"
  },
  "cells": [
    {
      "cell_type": "markdown",
      "source": [
        "Odd numbers between 0 and 100"
      ],
      "metadata": {
        "id": "kubuV0p00xOd"
      }
    },
    {
      "cell_type": "code",
      "execution_count": null,
      "metadata": {
        "id": "Q_Tqahca-8wh"
      },
      "outputs": [],
      "source": [
        "import random\n",
        "def odds():\n",
        "  nums = []\n",
        "\n",
        "  for i in range(10):\n",
        "    nums.append(random.randint(0,100))\n",
        "\n",
        "  for num in nums:\n",
        "    if num % 2 == 1:\n",
        "      print(num)"
      ]
    },
    {
      "cell_type": "code",
      "source": [
        "#summation even numbers 0-100"
      ],
      "metadata": {
        "id": "7wVEl8AN0to8"
      },
      "execution_count": null,
      "outputs": []
    },
    {
      "cell_type": "code",
      "source": [
        "def summation(start, end):\n",
        "  result = 0\n",
        "  for i in range(start, end):\n",
        "    if(i%2 == 0):\n",
        "      result+=i\n",
        "\n",
        "print(summmation(0,100))"
      ],
      "metadata": {
        "id": "DYTFFv4Z1duE"
      },
      "execution_count": null,
      "outputs": []
    }
  ]
}